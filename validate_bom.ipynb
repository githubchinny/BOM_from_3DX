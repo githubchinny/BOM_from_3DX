{
 "cells": [
  {
   "attachments": {},
   "cell_type": "markdown",
   "metadata": {},
   "source": [
    "# Validate BoM\n",
    "\n",
    "The notebook/script reads in the df file from sharepoint based on the existing live BoM for the chosen project.  It will correct the part numbers being used by matching with catia   \n",
    "and update the release status to what's found in the release registers\n"
   ]
  },
  {
   "cell_type": "code",
   "execution_count": 92,
   "metadata": {},
   "outputs": [],
   "source": [
    "import pandas as pd\n",
    "import numpy as np\n",
    "import os\n",
    "import re\n",
    "import io\n",
    "import xlwings as xw\n",
    "import openpyxl\n",
    "from pathlib import Path\n",
    "import argparse\n",
    "import platform\n",
    "import sys\n"
   ]
  },
  {
   "cell_type": "code",
   "execution_count": 2,
   "metadata": {},
   "outputs": [],
   "source": [
    "def type_of_script():\n",
    "    '''\n",
    "        determine where this script is running\n",
    "        return either jupyter, ipython, terminal\n",
    "    '''\n",
    "    try:\n",
    "        ipy_str = str(type(get_ipython()))\n",
    "        if 'zmqshell' in ipy_str:\n",
    "            return 'jupyter'\n",
    "        if 'terminal' in ipy_str:\n",
    "            return 'ipython'\n",
    "    except:\n",
    "        return 'terminal'"
   ]
  },
  {
   "cell_type": "code",
   "execution_count": 3,
   "metadata": {},
   "outputs": [],
   "source": [
    "def find_files():\n",
    "    if 'macOS' in platform.platform():\n",
    "        # set some defaults for testing on mac\n",
    "        download_dir = Path('/Users/mark/Downloads')\n",
    "        user_dir = download_dir\n",
    "        sharepoint_dir = download_dir\n",
    "\n",
    "    elif 'Server' in platform.platform():\n",
    "        # we're on the azure server (probably)\n",
    "        user_dir = Path('Z:/python/FilesIn')\n",
    "\n",
    "        download_dir = Path(user_dir)\n",
    "        user_dir = download_dir\n",
    "        sharepoint_dir = Path('Z:/python/FilesOut')\n",
    "\n",
    "    elif os.getlogin() == 'mark_':\n",
    "        # my test windows machine\n",
    "        download_dir = Path('C:/Users/mark_/Downloads')\n",
    "        user_dir = download_dir\n",
    "        sharepoint_dir = download_dir        \n",
    "\n",
    "    else:\n",
    "        # personal one drive\n",
    "        user_dir = 'C:/Users/USERNAME'\n",
    "\n",
    "        # replace USERNAME with current logged on user\n",
    "        user_dir = user_dir.replace('USERNAME', os.getlogin())\n",
    "\n",
    "        # read in config file\n",
    "        config = configparser.ConfigParser()\n",
    "        config.read('user_directory.ini')\n",
    "\n",
    "        # read in gm_dir and gm_docs from config file\n",
    "        gm_dir = Path(config[os.getlogin().lower()]['gm_dir'])\n",
    "        gm_docs = Path(config[os.getlogin().lower()]['gmt'])\n",
    "        # this may find more than one sharepoint directory\n",
    "        # sharepoint_dir = user_dir + \"/\" + gm_dir + \"/\" + gm_docs\n",
    "        sharepoint_dir = Path(user_dir / gm_dir / gm_docs)\n",
    "\n",
    "        # download_dir = os.path.join(sharepoint_dir, 'Data Shuttle', 'downloads')\n",
    "        download_dir = Path(sharepoint_dir / 'Data Shuttle' / 'downloads')\n",
    "\n",
    "    # find any changed files changed in past 2hrs in the downloads directory\n",
    "    dirpath = download_dir\n",
    "    files = []\n",
    "    for p, ds, fs in os.walk(dirpath):\n",
    "        for fn in fs:\n",
    "            if 'Updated_' in fn:\n",
    "                # was using this to filter what filenames to find\n",
    "                filepath = os.path.join(p, fn)\n",
    "                files.append(filepath)\n",
    "\n",
    "    return files"
   ]
  },
  {
   "cell_type": "code",
   "execution_count": 4,
   "metadata": {},
   "outputs": [],
   "source": [
    "def remove_cols(df, col_name):\n",
    "    cols = df.columns\n",
    "\n",
    "    # filter out all Unnamed cols\n",
    "    cols = [ x for x in cols if col_name not in x ]\n",
    "\n",
    "    df = df[cols]\n",
    "\n",
    "    return df"
   ]
  },
  {
   "cell_type": "markdown",
   "metadata": {},
   "source": [
    "# Makes without Buys\n",
    "Each Make part needs at least one Buy part below it to make sense\n",
    "\n",
    "If a MAKE is not followed by a child BUY this is a problem"
   ]
  },
  {
   "cell_type": "code",
   "execution_count": 131,
   "metadata": {},
   "outputs": [],
   "source": [
    "def check_make_no_buy(df):\n",
    "    # if MAKE and there is no BUY below next row's part level less than or equal to current part level we have a MAKE without a BUY\n",
    "    # df['PROVIDE'] = np.where(df['Source Code'].isin(['AIH','MIH','MOB']),'Make','Buy')\n",
    "    make_no_buy = list(df[(df['Source Code'].isin(['AIH','MIH','MOB'])) & (df['Level'].shift(-1) <= df['Level'])].index)\n",
    "    make_no_buy = sorted(make_no_buy)\n",
    "    df['make_no_buy'] = np.where((df['Source Code'].isin(['AIH','MIH','MOB'])) & (df['Level'].shift(-1) <= df['Level']), True, False)\n",
    "\n",
    "    return df, make_no_buy"
   ]
  },
  {
   "cell_type": "code",
   "execution_count": 127,
   "metadata": {},
   "outputs": [],
   "source": [
    "def parent_source_code(df):\n",
    "    prev_level = 0\n",
    "\n",
    "    level_source = {}\n",
    "\n",
    "    for i, x in df.iterrows():\n",
    "        # take the current level source and store it\n",
    "        level_source[x['Level']] = x['Source Code']\n",
    "        if ((x['Level'] >= 4)):\n",
    "            df.loc[i, 'Parent Source Code'] = level_source[x['Level'] - 1]\n",
    "    \n",
    "    return df"
   ]
  },
  {
   "cell_type": "code",
   "execution_count": 79,
   "metadata": {},
   "outputs": [],
   "source": [
    "def source_code_checks(df, sc_check_list):\n",
    "\n",
    "    dict_checks = {}\n",
    "\n",
    "    fastener_list = ['^WASHER|^BOLT|^GROMMET']\n",
    "    for sc_check in sc_check_list:\n",
    "        sc, parent_sc = sc_check.split('_')\n",
    "\n",
    "        dict_checks[sc_check] = df[(df['Source Code'] == sc) & (df['Parent Source Code'] == parent_sc)]\n",
    "\n",
    "        df[sc_check] = np.where((df['Source Code'] == sc) & (df['Parent Source Code'] == parent_sc), True, False)\n",
    "\n",
    "        # temp_df = df[check_columns][(df['Description'].str.contains('^{}'.format(fastener))) & (df['Source Code'] == 'BOF')]\n",
    "        # df['FAS_as_BOF'] = np.where((df['Description'].str.contains('^{}'.format(fastener))) & (df['Source Code'] == 'BOF'), True, False)\n",
    "\n",
    "        # dict_checks['FAS_as_BOF'] = pd.concat([dict_checks['Fasteners_as_BOF'], temp_df])\n",
    "\n",
    "    dict_checks['Non_MIH_AIH_Level_4'] = df[(df['Level'] == 4) & (~df['Source Code'].isin(['MIH','AIH']))]\n",
    "    df['FAS_as_BOF'] = np.where((df['Level'] == 4) & (df['Source Code'] == 'BOF'), True, False)\n",
    "\n",
    "    dict_checks['FAS_Wrong_Parent_Source_code'] = df[(df['Source Code'] == 'FAS') & (~df['Parent Source Code'].isin(['FIP','AIH','MIH']))]\n",
    "    df['FAS_Wrong_Parent_Source_code'] = np.where((df['Source Code'] == 'FAS') & (~df['Parent Source Code'].isin(['FIP','AIH','MIH'])), True, False)\n",
    "\n",
    "    return dict_checks, df\n"
   ]
  },
  {
   "cell_type": "code",
   "execution_count": 90,
   "metadata": {},
   "outputs": [],
   "source": [
    "def fastener_checks(dict_checks, df, fastener_check_list):\n",
    "    # All BOF records that are fasteners should be {FAS}teners in the BOMS\n",
    "    # Part Description contains washer, bolt, grommet\n",
    "    # Source code = \"BOF\"\n",
    "        \n",
    "    dict_checks['FAS_as_BOF'] = df[(df['Description'].str.lower().str.contains('{}'.format(fastener_check_list))) & (df['Source Code'] == 'BOF')]\n",
    "    df['FAS_as_BOF'] = np.where((df['Description'].str.lower().str.contains('{}'.format(fastener_check_list))) & (df['Source Code'] == 'BOF'), True, False)\n",
    "\n",
    "    return dict_checks, df"
   ]
  },
  {
   "cell_type": "code",
   "execution_count": 119,
   "metadata": {},
   "outputs": [],
   "source": [
    "def filter_check_columns(dict_checks):\n",
    "    # For a selection of columns, create a dataframe of AIH parent, POA parts\n",
    "    check_columns = [\n",
    "    # 'row',\n",
    "    'Function Group',\n",
    "    'System',\n",
    "    'Sub System',\n",
    "    'Level',\n",
    "    'Title',\n",
    "    'Revision',\n",
    "    'Description',\n",
    "    'Parent Part',\n",
    "    'Source Code',\n",
    "    'Quantity',\n",
    "    'Parent Source Code'\n",
    "    ]\n",
    "\n",
    "    for key in dict_checks.keys():\n",
    "        print (key)\n",
    "        dict_checks[key] = dict_checks[key][check_columns]\n",
    "\n",
    "    return dict_checks"
   ]
  },
  {
   "cell_type": "code",
   "execution_count": 167,
   "metadata": {},
   "outputs": [],
   "source": [
    "def write_to_xl(outfile, df_dict):\n",
    "    import xlwings as xw\n",
    "\n",
    "    with xw.App(visible=True) as app:\n",
    "        try:\n",
    "            wb = xw.Book(outfile)\n",
    "        except FileNotFoundError:\n",
    "            wb = xw.Book()\n",
    "            wb.save(outfile)\n",
    "\n",
    "        for key in df_dict.keys():\n",
    "            try:\n",
    "                ws = wb.sheets.add(key)\n",
    "            except Exception as e:\n",
    "                print (e)\n",
    "            \n",
    "            ws = wb.sheets[key]\n",
    "\n",
    "            table_name = key\n",
    "\n",
    "            ws.clear()\n",
    "\n",
    "            df = df_dict[key].set_index(list(df_dict[key])[0])\n",
    "            if table_name in [table.df for table in ws.tables]:\n",
    "                ws.tables[table_name].update(df)\n",
    "            else:\n",
    "                table_name = ws.tables.add(source=ws['A1'],\n",
    "                                            name=table_name).update(df)\n",
    "    wb.save(outfile)"
   ]
  },
  {
   "cell_type": "code",
   "execution_count": 109,
   "metadata": {},
   "outputs": [],
   "source": [
    "def write_to_xl_sub_system(dict_checks):\n",
    "    sub_sys = dict_checks[check]['Sub System'].unique()\n",
    "    sub_sys.sort()\n",
    "\n",
    "    for s_sys in sub_sys:\n",
    "\n",
    "        df_temp = dict_checks[check][dict_checks[check]['Sub System'] == s_sys]\n",
    "\n",
    "        if df_temp.shape[0] > 0:\n",
    "            df_temp.to_excel(writer, sheet_name=s_sys, index=False)\n",
    "\n",
    "            ws = writer.sheets[s_sys]\n",
    "            wb = writer.book\n",
    "\n",
    "            excel_formatting.adjust_col_width_from_col(ws)"
   ]
  },
  {
   "cell_type": "markdown",
   "metadata": {},
   "source": [
    "# Main Processing"
   ]
  },
  {
   "cell_type": "code",
   "execution_count": 165,
   "metadata": {},
   "outputs": [
    {
     "name": "stdout",
     "output_type": "stream",
     "text": [
      "AIH_POA\n",
      "BOP_FIP\n",
      "FAS_FAS\n",
      "FIP_FIP\n",
      "FIP_FAS\n",
      "Non_MIH_AIH_Level_4\n",
      "FAS_Wrong_Parent_Source_code\n",
      "FAS_as_BOF\n",
      "make_no_buy\n"
     ]
    }
   ],
   "source": [
    "if __name__ == '__main__':\n",
    "\n",
    "    # for reading in multiple files\n",
    "\n",
    "    # files = find_files()\n",
    "    dict_df = {}\n",
    "\n",
    "    file = Path('/Users/mark/Downloads/Updated_T48e-01-Z00001_2024-07-19.xlsx')\n",
    "\n",
    "    df = pd.DataFrame()\n",
    "    existing_bom = pd.DataFrame()\n",
    "\n",
    "    with open(file, \"rb\") as f:\n",
    "        # reading in the historic excel files\n",
    "        df = pd.read_excel(f, parse_dates=True)\n",
    "        f.close()\n",
    "\n",
    "    df.reset_index(drop=False, inplace=True)\n",
    "    df.rename(columns={'index':'bom_order'}, inplace=True)\n",
    "\n",
    "    # add parent source code to each row for validation checks to come\n",
    "    df = parent_source_code(df)\n",
    "\n",
    "    sc_check_list = ['AIH_POA','BOP_FIP','FAS_FAS','FIP_FIP','FIP_FAS']\n",
    "    dict_checks, df = source_code_checks(df, sc_check_list)\n",
    "\n",
    "\n",
    "    fastener_check_list = ['^washer|^bolt|^grommet']\n",
    "    dict_checks, df = fastener_checks(dict_checks, df, fastener_check_list)\n",
    "\n",
    "    df, make_no_buy = check_make_no_buy(df)\n",
    "\n",
    "    dict_checks['make_no_buy'] = df.loc[make_no_buy]\n",
    "\n",
    "    dict_checks = filter_check_columns(dict_checks)\n",
    "\n"
   ]
  },
  {
   "attachments": {},
   "cell_type": "markdown",
   "metadata": {},
   "source": [
    "### Release status checks\n",
    "For part levels >=4 groupby part number and release status and report which parts have more than 1 release status - should be unique per part number\n",
    "\n",
    "| \t|\t|\t|Function Group|\tPart Level|\tIssue Level|\trow|\n",
    "|---|---|---|--------------|--------------|------------|-------|\n",
    "|Part Number|\tSub Group|\tRelease Status|||||\t\t\t\t\n",
    "|T33-A1117X\t|A01-Structure Systems\t|REL|\tT33-BoM-XP\t|7.0\t|1.0\t|617|\n",
    "|||AWT\t|T33-BoM-XP\t|6.0\t|1.0\t|1284|\n",
    "|T33-A1475\t|A02-Panels & Closure Systems\t|AWT\t|T33-BoM-XP\t|6.0\t|1.0\t|137|\n",
    "|||REL\t|T33-BoM-XP\t|6.0\t|1.0\t|230|\n",
    "|T33-A1476X\t|A02-Panels & Closure Systems\t|AWT\t|T33-BoM-XP\t|6.0\t|1.0\t|143|\n",
    "\n",
    "\n",
    "This is written out to excel\n"
   ]
  },
  {
   "attachments": {},
   "cell_type": "markdown",
   "metadata": {},
   "source": [
    "### Write out the validation checks to excel\n",
    "\n",
    "- collated bom multi status   \n",
    "- wrong parent parts   \n",
    "- collated and cleaned bom written out with cleaned part numbers, parent parts and release status attached   "
   ]
  },
  {
   "attachments": {},
   "cell_type": "markdown",
   "metadata": {},
   "source": [
    "This is where we can add a list of source code combinations to check as we find out they are not valid (mainly causing a problem for IFS)"
   ]
  },
  {
   "attachments": {},
   "cell_type": "markdown",
   "metadata": {},
   "source": [
    "### Write out source code checks to excel"
   ]
  },
  {
   "cell_type": "code",
   "execution_count": 168,
   "metadata": {},
   "outputs": [
    {
     "name": "stdout",
     "output_type": "stream",
     "text": [
      "Command failed:\n",
      "\t\tOSERROR: -1728\n",
      "\t\tMESSAGE: The object you are trying to access does not exist\n",
      "\t\tCOMMAND: app(pid=44727).workbooks['Updated_T48e-01-Z00001_2024-07-19_validated.xlsx'].sheets['Sheet2'].name.get()\n",
      "Command failed:\n",
      "\t\tOSERROR: -1728\n",
      "\t\tMESSAGE: The object you are trying to access does not exist\n",
      "\t\tCOMMAND: app(pid=44727).workbooks['Updated_T48e-01-Z00001_2024-07-19_validated.xlsx'].sheets['Sheet3'].name.get()\n",
      "Command failed:\n",
      "\t\tOSERROR: -1728\n",
      "\t\tMESSAGE: The object you are trying to access does not exist\n",
      "\t\tCOMMAND: app(pid=44727).workbooks['Updated_T48e-01-Z00001_2024-07-19_validated.xlsx'].sheets['Sheet4'].name.get()\n",
      "Command failed:\n",
      "\t\tOSERROR: -1728\n",
      "\t\tMESSAGE: The object you are trying to access does not exist\n",
      "\t\tCOMMAND: app(pid=44727).workbooks['Updated_T48e-01-Z00001_2024-07-19_validated.xlsx'].sheets['Sheet5'].name.get()\n",
      "Command failed:\n",
      "\t\tOSERROR: -1728\n",
      "\t\tMESSAGE: The object you are trying to access does not exist\n",
      "\t\tCOMMAND: app(pid=44727).workbooks['Updated_T48e-01-Z00001_2024-07-19_validated.xlsx'].sheets['Sheet6'].name.get()\n",
      "Command failed:\n",
      "\t\tOSERROR: -1728\n",
      "\t\tMESSAGE: The object you are trying to access does not exist\n",
      "\t\tCOMMAND: app(pid=44727).workbooks['Updated_T48e-01-Z00001_2024-07-19_validated.xlsx'].sheets['Sheet7'].name.get()\n",
      "Command failed:\n",
      "\t\tOSERROR: -1728\n",
      "\t\tMESSAGE: The object you are trying to access does not exist\n",
      "\t\tCOMMAND: app(pid=44727).workbooks['Updated_T48e-01-Z00001_2024-07-19_validated.xlsx'].sheets['Sheet8'].name.get()\n",
      "Command failed:\n",
      "\t\tOSERROR: -1728\n",
      "\t\tMESSAGE: The object you are trying to access does not exist\n",
      "\t\tCOMMAND: app(pid=44727).workbooks['Updated_T48e-01-Z00001_2024-07-19_validated.xlsx'].sheets['Sheet9'].name.get()\n",
      "Command failed:\n",
      "\t\tOSERROR: -1728\n",
      "\t\tMESSAGE: The object you are trying to access does not exist\n",
      "\t\tCOMMAND: app(pid=44727).workbooks['Updated_T48e-01-Z00001_2024-07-19_validated.xlsx'].sheets['Sheet10'].name.get()\n"
     ]
    },
    {
     "ename": "CommandError",
     "evalue": "Command failed:\n\t\tOSERROR: -600\n\t\tMESSAGE: Application isn't running.\n\t\tCOMMAND: app(pid=44727).display_alerts.get()",
     "output_type": "error",
     "traceback": [
      "\u001b[0;31m---------------------------------------------------------------------------\u001b[0m",
      "\u001b[0;31mMacOSError\u001b[0m                                Traceback (most recent call last)",
      "File \u001b[0;32m/opt/anaconda3/envs/python312/lib/python3.12/site-packages/aeosa/aem/aemsend.py:74\u001b[0m, in \u001b[0;36mEvent.send\u001b[0;34m(self, timeout, flags)\u001b[0m\n\u001b[1;32m     73\u001b[0m \u001b[38;5;28;01mtry\u001b[39;00m:\n\u001b[0;32m---> 74\u001b[0m \treplyevent \u001b[38;5;241m=\u001b[39m \u001b[38;5;28;43mself\u001b[39;49m\u001b[38;5;241;43m.\u001b[39;49m\u001b[43m_sendproc\u001b[49m\u001b[43m(\u001b[49m\u001b[38;5;28;43mself\u001b[39;49m\u001b[38;5;241;43m.\u001b[39;49m\u001b[43mAEM_event\u001b[49m\u001b[43m,\u001b[49m\u001b[43m \u001b[49m\u001b[43mflags\u001b[49m\u001b[43m,\u001b[49m\u001b[43m \u001b[49m\u001b[43mtimeout\u001b[49m\u001b[43m)\u001b[49m\n\u001b[1;32m     75\u001b[0m \u001b[38;5;28;01mexcept\u001b[39;00m MacOSError \u001b[38;5;28;01mas\u001b[39;00m err: \u001b[38;5;66;03m# an OS-level error occurred\u001b[39;00m\n",
      "File \u001b[0;32m/opt/anaconda3/envs/python312/lib/python3.12/site-packages/aeosa/aem/aemsend.py:23\u001b[0m, in \u001b[0;36msendappleevent\u001b[0;34m(evt, flags, timeout)\u001b[0m\n\u001b[1;32m     17\u001b[0m \u001b[38;5;250m\u001b[39m\u001b[38;5;124;03m\"\"\" Default function for sending Apple events.\u001b[39;00m\n\u001b[1;32m     18\u001b[0m \u001b[38;5;124;03m\tevt : aem.ae.AEDesc -- the AppleEvent to send\u001b[39;00m\n\u001b[1;32m     19\u001b[0m \u001b[38;5;124;03m\tflags : int -- send mode flags\u001b[39;00m\n\u001b[1;32m     20\u001b[0m \u001b[38;5;124;03m\ttimeout : int -- timeout delay\u001b[39;00m\n\u001b[1;32m     21\u001b[0m \u001b[38;5;124;03m\tResult : aem.ae.AEDesc -- the reply AppleEvent\u001b[39;00m\n\u001b[1;32m     22\u001b[0m \u001b[38;5;124;03m\"\"\"\u001b[39;00m\n\u001b[0;32m---> 23\u001b[0m \u001b[38;5;28;01mreturn\u001b[39;00m \u001b[43mevt\u001b[49m\u001b[38;5;241;43m.\u001b[39;49m\u001b[43msend\u001b[49m\u001b[43m(\u001b[49m\u001b[43mflags\u001b[49m\u001b[43m,\u001b[49m\u001b[43m \u001b[49m\u001b[43mtimeout\u001b[49m\u001b[43m)\u001b[49m\n",
      "\u001b[0;31mMacOSError\u001b[0m: -600",
      "\nThe above exception was the direct cause of the following exception:\n",
      "\u001b[0;31mEventError\u001b[0m                                Traceback (most recent call last)",
      "File \u001b[0;32m/opt/anaconda3/envs/python312/lib/python3.12/site-packages/aeosa/appscript/reference.py:482\u001b[0m, in \u001b[0;36mCommand.__call__\u001b[0;34m(self, *args, **kargs)\u001b[0m\n\u001b[1;32m    481\u001b[0m \u001b[38;5;28;01mtry\u001b[39;00m:\n\u001b[0;32m--> 482\u001b[0m \t\u001b[38;5;28;01mreturn\u001b[39;00m \u001b[38;5;28;43mself\u001b[39;49m\u001b[38;5;241;43m.\u001b[39;49m\u001b[43mAS_appdata\u001b[49m\u001b[38;5;241;43m.\u001b[39;49m\u001b[43mtarget\u001b[49m\u001b[43m(\u001b[49m\u001b[43m)\u001b[49m\u001b[38;5;241;43m.\u001b[39;49m\u001b[43mevent\u001b[49m\u001b[43m(\u001b[49m\u001b[38;5;28;43mself\u001b[39;49m\u001b[38;5;241;43m.\u001b[39;49m\u001b[43m_code\u001b[49m\u001b[43m,\u001b[49m\u001b[43m \u001b[49m\u001b[43mparams\u001b[49m\u001b[43m,\u001b[49m\u001b[43m \u001b[49m\u001b[43matts\u001b[49m\u001b[43m,\u001b[49m\u001b[43m \u001b[49m\u001b[43mcodecs\u001b[49m\u001b[38;5;241;43m=\u001b[39;49m\u001b[38;5;28;43mself\u001b[39;49m\u001b[38;5;241;43m.\u001b[39;49m\u001b[43mAS_appdata\u001b[49m\u001b[43m)\u001b[49m\u001b[38;5;241;43m.\u001b[39;49m\u001b[43msend\u001b[49m\u001b[43m(\u001b[49m\u001b[43mtimeout\u001b[49m\u001b[43m,\u001b[49m\u001b[43m \u001b[49m\u001b[43msendflags\u001b[49m\u001b[43m)\u001b[49m\n\u001b[1;32m    483\u001b[0m \u001b[38;5;28;01mexcept\u001b[39;00m aem\u001b[38;5;241m.\u001b[39mEventError \u001b[38;5;28;01mas\u001b[39;00m e:\n",
      "File \u001b[0;32m/opt/anaconda3/envs/python312/lib/python3.12/site-packages/aeosa/aem/aemsend.py:77\u001b[0m, in \u001b[0;36mEvent.send\u001b[0;34m(self, timeout, flags)\u001b[0m\n\u001b[1;32m     76\u001b[0m \t\u001b[38;5;28;01mif\u001b[39;00m \u001b[38;5;129;01mnot\u001b[39;00m (\u001b[38;5;28mself\u001b[39m\u001b[38;5;241m.\u001b[39m_eventcode \u001b[38;5;241m==\u001b[39m \u001b[38;5;124mb\u001b[39m\u001b[38;5;124m'\u001b[39m\u001b[38;5;124maevtquit\u001b[39m\u001b[38;5;124m'\u001b[39m \u001b[38;5;129;01mand\u001b[39;00m err\u001b[38;5;241m.\u001b[39margs[\u001b[38;5;241m0\u001b[39m] \u001b[38;5;241m==\u001b[39m \u001b[38;5;241m-\u001b[39m\u001b[38;5;241m609\u001b[39m): \u001b[38;5;66;03m# Ignore invalid connection error (-609) when quitting\u001b[39;00m\n\u001b[0;32m---> 77\u001b[0m \t\t\u001b[38;5;28;01mraise\u001b[39;00m EventError(err\u001b[38;5;241m.\u001b[39margs[\u001b[38;5;241m0\u001b[39m]) \u001b[38;5;28;01mfrom\u001b[39;00m \u001b[38;5;21;01merr\u001b[39;00m\n\u001b[1;32m     78\u001b[0m \u001b[38;5;28;01melse\u001b[39;00m: \u001b[38;5;66;03m# decode application's reply, if any\u001b[39;00m\n",
      "\u001b[0;31mEventError\u001b[0m: Command failed: Application isn't running. (-600)",
      "\nThe above exception was the direct cause of the following exception:\n",
      "\u001b[0;31mCommandError\u001b[0m                              Traceback (most recent call last)",
      "Cell \u001b[0;32mIn[168], line 5\u001b[0m\n\u001b[1;32m      2\u001b[0m pathfile \u001b[38;5;241m=\u001b[39m Path(file\u001b[38;5;241m.\u001b[39mname)\u001b[38;5;241m.\u001b[39mstem\n\u001b[1;32m      3\u001b[0m output_file \u001b[38;5;241m=\u001b[39m Path(sys\u001b[38;5;241m.\u001b[39mpath[\u001b[38;5;241m0\u001b[39m]) \u001b[38;5;241m/\u001b[39m Path(pathfile \u001b[38;5;241m+\u001b[39m \u001b[38;5;124m'\u001b[39m\u001b[38;5;124m_validated\u001b[39m\u001b[38;5;124m'\u001b[39m)\u001b[38;5;241m.\u001b[39mwith_suffix(\u001b[38;5;124m'\u001b[39m\u001b[38;5;124m.xlsx\u001b[39m\u001b[38;5;124m'\u001b[39m)\n\u001b[0;32m----> 5\u001b[0m \u001b[43mwrite_to_xl\u001b[49m\u001b[43m(\u001b[49m\u001b[43moutput_file\u001b[49m\u001b[43m,\u001b[49m\u001b[43m \u001b[49m\u001b[43mdict_checks\u001b[49m\u001b[43m)\u001b[49m\n",
      "Cell \u001b[0;32mIn[167], line 29\u001b[0m, in \u001b[0;36mwrite_to_xl\u001b[0;34m(outfile, df_dict)\u001b[0m\n\u001b[1;32m     26\u001b[0m         \u001b[38;5;28;01melse\u001b[39;00m:\n\u001b[1;32m     27\u001b[0m             table_name \u001b[38;5;241m=\u001b[39m ws\u001b[38;5;241m.\u001b[39mtables\u001b[38;5;241m.\u001b[39madd(source\u001b[38;5;241m=\u001b[39mws[\u001b[38;5;124m'\u001b[39m\u001b[38;5;124mA1\u001b[39m\u001b[38;5;124m'\u001b[39m],\n\u001b[1;32m     28\u001b[0m                                         name\u001b[38;5;241m=\u001b[39mtable_name)\u001b[38;5;241m.\u001b[39mupdate(df)\n\u001b[0;32m---> 29\u001b[0m \u001b[43mwb\u001b[49m\u001b[38;5;241;43m.\u001b[39;49m\u001b[43msave\u001b[49m\u001b[43m(\u001b[49m\u001b[43moutfile\u001b[49m\u001b[43m)\u001b[49m\n",
      "File \u001b[0;32m/opt/anaconda3/envs/python312/lib/python3.12/site-packages/xlwings/main.py:1146\u001b[0m, in \u001b[0;36mBook.save\u001b[0;34m(self, path, password)\u001b[0m\n\u001b[1;32m   1144\u001b[0m \u001b[38;5;28;01mif\u001b[39;00m path:\n\u001b[1;32m   1145\u001b[0m     path \u001b[38;5;241m=\u001b[39m utils\u001b[38;5;241m.\u001b[39mfspath(path)\n\u001b[0;32m-> 1146\u001b[0m \u001b[43m\u001b[49m\u001b[38;5;28;43;01mwith\u001b[39;49;00m\u001b[43m \u001b[49m\u001b[38;5;28;43mself\u001b[39;49m\u001b[38;5;241;43m.\u001b[39;49m\u001b[43mapp\u001b[49m\u001b[38;5;241;43m.\u001b[39;49m\u001b[43mproperties\u001b[49m\u001b[43m(\u001b[49m\u001b[43mdisplay_alerts\u001b[49m\u001b[38;5;241;43m=\u001b[39;49m\u001b[38;5;28;43;01mFalse\u001b[39;49;00m\u001b[43m)\u001b[49m\u001b[43m:\u001b[49m\n\u001b[1;32m   1147\u001b[0m \u001b[43m    \u001b[49m\u001b[38;5;28;43mself\u001b[39;49m\u001b[38;5;241;43m.\u001b[39;49m\u001b[43mimpl\u001b[49m\u001b[38;5;241;43m.\u001b[39;49m\u001b[43msave\u001b[49m\u001b[43m(\u001b[49m\u001b[43mpath\u001b[49m\u001b[43m,\u001b[49m\u001b[43m \u001b[49m\u001b[43mpassword\u001b[49m\u001b[38;5;241;43m=\u001b[39;49m\u001b[43mpassword\u001b[49m\u001b[43m)\u001b[49m\n",
      "File \u001b[0;32m/opt/anaconda3/envs/python312/lib/python3.12/contextlib.py:137\u001b[0m, in \u001b[0;36m_GeneratorContextManager.__enter__\u001b[0;34m(self)\u001b[0m\n\u001b[1;32m    135\u001b[0m \u001b[38;5;28;01mdel\u001b[39;00m \u001b[38;5;28mself\u001b[39m\u001b[38;5;241m.\u001b[39margs, \u001b[38;5;28mself\u001b[39m\u001b[38;5;241m.\u001b[39mkwds, \u001b[38;5;28mself\u001b[39m\u001b[38;5;241m.\u001b[39mfunc\n\u001b[1;32m    136\u001b[0m \u001b[38;5;28;01mtry\u001b[39;00m:\n\u001b[0;32m--> 137\u001b[0m     \u001b[38;5;28;01mreturn\u001b[39;00m \u001b[38;5;28;43mnext\u001b[39;49m\u001b[43m(\u001b[49m\u001b[38;5;28;43mself\u001b[39;49m\u001b[38;5;241;43m.\u001b[39;49m\u001b[43mgen\u001b[49m\u001b[43m)\u001b[49m\n\u001b[1;32m    138\u001b[0m \u001b[38;5;28;01mexcept\u001b[39;00m \u001b[38;5;167;01mStopIteration\u001b[39;00m:\n\u001b[1;32m    139\u001b[0m     \u001b[38;5;28;01mraise\u001b[39;00m \u001b[38;5;167;01mRuntimeError\u001b[39;00m(\u001b[38;5;124m\"\u001b[39m\u001b[38;5;124mgenerator didn\u001b[39m\u001b[38;5;124m'\u001b[39m\u001b[38;5;124mt yield\u001b[39m\u001b[38;5;124m\"\u001b[39m) \u001b[38;5;28;01mfrom\u001b[39;00m \u001b[38;5;28;01mNone\u001b[39;00m\n",
      "File \u001b[0;32m/opt/anaconda3/envs/python312/lib/python3.12/site-packages/xlwings/main.py:657\u001b[0m, in \u001b[0;36mApp.properties\u001b[0;34m(self, **kwargs)\u001b[0m\n\u001b[1;32m    655\u001b[0m initial_state \u001b[38;5;241m=\u001b[39m {}\n\u001b[1;32m    656\u001b[0m \u001b[38;5;28;01mfor\u001b[39;00m attribute, value \u001b[38;5;129;01min\u001b[39;00m kwargs\u001b[38;5;241m.\u001b[39mitems():\n\u001b[0;32m--> 657\u001b[0m     initial_state[attribute] \u001b[38;5;241m=\u001b[39m \u001b[38;5;28;43mgetattr\u001b[39;49m\u001b[43m(\u001b[49m\u001b[38;5;28;43mself\u001b[39;49m\u001b[43m,\u001b[49m\u001b[43m \u001b[49m\u001b[43mattribute\u001b[49m\u001b[43m,\u001b[49m\u001b[43m \u001b[49m\u001b[43mvalue\u001b[49m\u001b[43m)\u001b[49m\n\u001b[1;32m    658\u001b[0m     \u001b[38;5;28msetattr\u001b[39m(\u001b[38;5;28mself\u001b[39m, attribute, value)\n\u001b[1;32m    659\u001b[0m \u001b[38;5;28;01mtry\u001b[39;00m:\n",
      "File \u001b[0;32m/opt/anaconda3/envs/python312/lib/python3.12/site-packages/xlwings/main.py:422\u001b[0m, in \u001b[0;36mApp.display_alerts\u001b[0;34m(self)\u001b[0m\n\u001b[1;32m    413\u001b[0m \u001b[38;5;129m@property\u001b[39m\n\u001b[1;32m    414\u001b[0m \u001b[38;5;28;01mdef\u001b[39;00m \u001b[38;5;21mdisplay_alerts\u001b[39m(\u001b[38;5;28mself\u001b[39m):\n\u001b[1;32m    415\u001b[0m \u001b[38;5;250m    \u001b[39m\u001b[38;5;124;03m\"\"\"\u001b[39;00m\n\u001b[1;32m    416\u001b[0m \u001b[38;5;124;03m    The default value is True. Set this property to False to suppress prompts and\u001b[39;00m\n\u001b[1;32m    417\u001b[0m \u001b[38;5;124;03m    alert messages while code is running; when a message requires a response, Excel\u001b[39;00m\n\u001b[0;32m   (...)\u001b[0m\n\u001b[1;32m    420\u001b[0m \u001b[38;5;124;03m    .. versionadded:: 0.9.0\u001b[39;00m\n\u001b[1;32m    421\u001b[0m \u001b[38;5;124;03m    \"\"\"\u001b[39;00m\n\u001b[0;32m--> 422\u001b[0m     \u001b[38;5;28;01mreturn\u001b[39;00m \u001b[38;5;28;43mself\u001b[39;49m\u001b[38;5;241;43m.\u001b[39;49m\u001b[43mimpl\u001b[49m\u001b[38;5;241;43m.\u001b[39;49m\u001b[43mdisplay_alerts\u001b[49m\n",
      "File \u001b[0;32m/opt/anaconda3/envs/python312/lib/python3.12/site-packages/xlwings/_xlmac.py:276\u001b[0m, in \u001b[0;36mApp.display_alerts\u001b[0;34m(self)\u001b[0m\n\u001b[1;32m    274\u001b[0m \u001b[38;5;129m@property\u001b[39m\n\u001b[1;32m    275\u001b[0m \u001b[38;5;28;01mdef\u001b[39;00m \u001b[38;5;21mdisplay_alerts\u001b[39m(\u001b[38;5;28mself\u001b[39m):\n\u001b[0;32m--> 276\u001b[0m     \u001b[38;5;28;01mreturn\u001b[39;00m \u001b[38;5;28;43mself\u001b[39;49m\u001b[38;5;241;43m.\u001b[39;49m\u001b[43mxl\u001b[49m\u001b[38;5;241;43m.\u001b[39;49m\u001b[43mdisplay_alerts\u001b[49m\u001b[38;5;241;43m.\u001b[39;49m\u001b[43mget\u001b[49m\u001b[43m(\u001b[49m\u001b[43m)\u001b[49m\n",
      "File \u001b[0;32m/opt/anaconda3/envs/python312/lib/python3.12/site-packages/aeosa/appscript/reference.py:518\u001b[0m, in \u001b[0;36mCommand.__call__\u001b[0;34m(self, *args, **kargs)\u001b[0m\n\u001b[1;32m    516\u001b[0m \t\t\t\u001b[38;5;28;01mreturn\u001b[39;00m\n\u001b[1;32m    517\u001b[0m \t\t\u001b[38;5;28;01mraise\u001b[39;00m CommandError(\u001b[38;5;28mself\u001b[39m, (args, kargs), e, \u001b[38;5;28mself\u001b[39m\u001b[38;5;241m.\u001b[39mAS_appdata) \u001b[38;5;28;01mfrom\u001b[39;00m \u001b[38;5;21;01me\u001b[39;00m\n\u001b[0;32m--> 518\u001b[0m \u001b[38;5;28;01mraise\u001b[39;00m CommandError(\u001b[38;5;28mself\u001b[39m, (args, kargs), e, \u001b[38;5;28mself\u001b[39m\u001b[38;5;241m.\u001b[39mAS_appdata) \u001b[38;5;28;01mfrom\u001b[39;00m \u001b[38;5;21;01me\u001b[39;00m\n",
      "\u001b[0;31mCommandError\u001b[0m: Command failed:\n\t\tOSERROR: -600\n\t\tMESSAGE: Application isn't running.\n\t\tCOMMAND: app(pid=44727).display_alerts.get()"
     ]
    }
   ],
   "source": [
    "# Write out to excel\n",
    "pathfile = Path(file.name).stem\n",
    "output_file = Path(sys.path[0]) / Path(pathfile + '_validated').with_suffix('.xlsx')\n",
    "\n",
    "write_to_xl(output_file, dict_checks)"
   ]
  },
  {
   "cell_type": "code",
   "execution_count": 91,
   "metadata": {},
   "outputs": [
    {
     "ename": "com_error",
     "evalue": "(-2147352567, 'Exception occurred.', (0, 'Microsoft Excel', \"Cannot access 'T50s_MakeBuyQuery.xlsm'.\", 'xlmain11.chm', 0, -2146827284), None)",
     "output_type": "error",
     "traceback": [
      "\u001b[1;31m---------------------------------------------------------------------------\u001b[0m",
      "\u001b[1;31mcom_error\u001b[0m                                 Traceback (most recent call last)",
      "Cell \u001b[1;32mIn[91], line 30\u001b[0m\n\u001b[0;32m     28\u001b[0m \u001b[39m# autofit the columns\u001b[39;00m\n\u001b[0;32m     29\u001b[0m ws\u001b[39m.\u001b[39mautofit(\u001b[39m'\u001b[39m\u001b[39mc\u001b[39m\u001b[39m'\u001b[39m)\n\u001b[1;32m---> 30\u001b[0m wb\u001b[39m.\u001b[39;49msave(make_filename)\n",
      "File \u001b[1;32mc:\\Users\\mark.chinnock\\Anaconda3\\lib\\site-packages\\xlwings\\main.py:1163\u001b[0m, in \u001b[0;36mBook.save\u001b[1;34m(self, path, password)\u001b[0m\n\u001b[0;32m   1161\u001b[0m     path \u001b[39m=\u001b[39m utils\u001b[39m.\u001b[39mfspath(path)\n\u001b[0;32m   1162\u001b[0m \u001b[39mwith\u001b[39;00m \u001b[39mself\u001b[39m\u001b[39m.\u001b[39mapp\u001b[39m.\u001b[39mproperties(display_alerts\u001b[39m=\u001b[39m\u001b[39mFalse\u001b[39;00m):\n\u001b[1;32m-> 1163\u001b[0m     \u001b[39mself\u001b[39;49m\u001b[39m.\u001b[39;49mimpl\u001b[39m.\u001b[39;49msave(path, password\u001b[39m=\u001b[39;49mpassword)\n",
      "File \u001b[1;32mc:\\Users\\mark.chinnock\\Anaconda3\\lib\\site-packages\\xlwings\\_xlwindows.py:894\u001b[0m, in \u001b[0;36mBook.save\u001b[1;34m(self, path, password)\u001b[0m\n\u001b[0;32m    892\u001b[0m alerts_state \u001b[39m=\u001b[39m \u001b[39mself\u001b[39m\u001b[39m.\u001b[39mxl\u001b[39m.\u001b[39mApplication\u001b[39m.\u001b[39mDisplayAlerts\n\u001b[0;32m    893\u001b[0m \u001b[39mself\u001b[39m\u001b[39m.\u001b[39mxl\u001b[39m.\u001b[39mApplication\u001b[39m.\u001b[39mDisplayAlerts \u001b[39m=\u001b[39m \u001b[39mFalse\u001b[39;00m\n\u001b[1;32m--> 894\u001b[0m \u001b[39mself\u001b[39;49m\u001b[39m.\u001b[39;49mxl\u001b[39m.\u001b[39;49mSaveAs(\n\u001b[0;32m    895\u001b[0m     os\u001b[39m.\u001b[39;49mpath\u001b[39m.\u001b[39;49mrealpath(path), FileFormat\u001b[39m=\u001b[39;49mfile_format, Password\u001b[39m=\u001b[39;49mpassword\n\u001b[0;32m    896\u001b[0m )\n\u001b[0;32m    897\u001b[0m \u001b[39mself\u001b[39m\u001b[39m.\u001b[39mxl\u001b[39m.\u001b[39mApplication\u001b[39m.\u001b[39mDisplayAlerts \u001b[39m=\u001b[39m alerts_state\n",
      "File \u001b[1;32mc:\\Users\\mark.chinnock\\Anaconda3\\lib\\site-packages\\xlwings\\_xlwindows.py:122\u001b[0m, in \u001b[0;36mCOMRetryMethodWrapper.__call__\u001b[1;34m(self, *args, **kwargs)\u001b[0m\n\u001b[0;32m    120\u001b[0m \u001b[39mwhile\u001b[39;00m \u001b[39mTrue\u001b[39;00m:\n\u001b[0;32m    121\u001b[0m     \u001b[39mtry\u001b[39;00m:\n\u001b[1;32m--> 122\u001b[0m         v \u001b[39m=\u001b[39m \u001b[39mself\u001b[39m\u001b[39m.\u001b[39m__method(\u001b[39m*\u001b[39margs, \u001b[39m*\u001b[39m\u001b[39m*\u001b[39mkwargs)\n\u001b[0;32m    123\u001b[0m         \u001b[39mif\u001b[39;00m \u001b[39misinstance\u001b[39m(v, (CDispatch, CoClassBaseClass, DispatchBaseClass)):\n\u001b[0;32m    124\u001b[0m             \u001b[39mreturn\u001b[39;00m COMRetryObjectWrapper(v)\n",
      "File \u001b[1;32mc:\\Users\\mark.chinnock\\Anaconda3\\lib\\site-packages\\win32com\\gen_py\\00020813-0000-0000-C000-000000000046x0x1x9.py:46809\u001b[0m, in \u001b[0;36m_Workbook.SaveAs\u001b[1;34m(self, Filename, FileFormat, Password, WriteResPassword, ReadOnlyRecommended, CreateBackup, AccessMode, ConflictResolution, AddToMru, TextCodepage, TextVisualLayout, Local, WorkIdentity)\u001b[0m\n\u001b[0;32m  46806\u001b[0m \u001b[39mdef\u001b[39;00m \u001b[39mSaveAs\u001b[39m(\u001b[39mself\u001b[39m, Filename\u001b[39m=\u001b[39mdefaultNamedNotOptArg, FileFormat\u001b[39m=\u001b[39mdefaultNamedNotOptArg, Password\u001b[39m=\u001b[39mdefaultNamedNotOptArg, WriteResPassword\u001b[39m=\u001b[39mdefaultNamedNotOptArg\n\u001b[0;32m  46807\u001b[0m \t\t, ReadOnlyRecommended\u001b[39m=\u001b[39mdefaultNamedNotOptArg, CreateBackup\u001b[39m=\u001b[39mdefaultNamedNotOptArg, AccessMode\u001b[39m=\u001b[39m\u001b[39m1\u001b[39m, ConflictResolution\u001b[39m=\u001b[39mdefaultNamedOptArg, AddToMru\u001b[39m=\u001b[39mdefaultNamedOptArg\n\u001b[0;32m  46808\u001b[0m \t\t, TextCodepage\u001b[39m=\u001b[39mdefaultNamedOptArg, TextVisualLayout\u001b[39m=\u001b[39mdefaultNamedOptArg, Local\u001b[39m=\u001b[39mdefaultNamedOptArg, WorkIdentity\u001b[39m=\u001b[39mdefaultNamedOptArg):\n\u001b[1;32m> 46809\u001b[0m \t\u001b[39mreturn\u001b[39;00m \u001b[39mself\u001b[39;49m\u001b[39m.\u001b[39;49m_oleobj_\u001b[39m.\u001b[39;49mInvokeTypes(\u001b[39m3174\u001b[39;49m, LCID, \u001b[39m1\u001b[39;49m, (\u001b[39m24\u001b[39;49m, \u001b[39m0\u001b[39;49m), ((\u001b[39m12\u001b[39;49m, \u001b[39m17\u001b[39;49m), (\u001b[39m12\u001b[39;49m, \u001b[39m17\u001b[39;49m), (\u001b[39m12\u001b[39;49m, \u001b[39m17\u001b[39;49m), (\u001b[39m12\u001b[39;49m, \u001b[39m17\u001b[39;49m), (\u001b[39m12\u001b[39;49m, \u001b[39m17\u001b[39;49m), (\u001b[39m12\u001b[39;49m, \u001b[39m17\u001b[39;49m), (\u001b[39m3\u001b[39;49m, \u001b[39m49\u001b[39;49m), (\u001b[39m12\u001b[39;49m, \u001b[39m17\u001b[39;49m), (\u001b[39m12\u001b[39;49m, \u001b[39m17\u001b[39;49m), (\u001b[39m12\u001b[39;49m, \u001b[39m17\u001b[39;49m), (\u001b[39m12\u001b[39;49m, \u001b[39m17\u001b[39;49m), (\u001b[39m12\u001b[39;49m, \u001b[39m17\u001b[39;49m), (\u001b[39m12\u001b[39;49m, \u001b[39m17\u001b[39;49m)),Filename\n\u001b[0;32m  46810\u001b[0m \t\t, FileFormat, Password, WriteResPassword, ReadOnlyRecommended, CreateBackup\n\u001b[0;32m  46811\u001b[0m \t\t, AccessMode, ConflictResolution, AddToMru, TextCodepage, TextVisualLayout\n\u001b[0;32m  46812\u001b[0m \t\t, Local, WorkIdentity)\n",
      "\u001b[1;31mcom_error\u001b[0m: (-2147352567, 'Exception occurred.', (0, 'Microsoft Excel', \"Cannot access 'T50s_MakeBuyQuery.xlsm'.\", 'xlmain11.chm', 0, -2146827284), None)"
     ]
    }
   ],
   "source": [
    "import xlwings as xw\n",
    "from openpyxl.utils.cell import get_column_letter\n",
    "\n",
    "make_filename = os.path.join(sharepoint_dir, project, project + '_MakeBuyQuery.xlsm')\n",
    "\n",
    "with xw.App():\n",
    "    try:\n",
    "        wb = xw.Book(make_filename)\n",
    "    except:\n",
    "        wb = xw.Book()\n",
    "    \n",
    "    ws = wb.sheets[0]\n",
    "\n",
    "    startrow=0\n",
    "\n",
    "    ws.range(\"A:XX\").clear()\n",
    "\n",
    "    ws['A1'].options(pd.DataFrame, header=1, index=False).value=existing_bom\n",
    "\n",
    "    last_col_letter = get_column_letter(existing_bom.shape[1])\n",
    "\n",
    "\n",
    "    for row in make_no_buy:\n",
    "        xw.Range('A{}:{}{}'.format(row + 2, last_col_letter, row + 2)).color = (69, 165, 237)\n",
    "\n",
    "    ws.tables.add(ws.used_range, name=\"a_table\")\n",
    "\n",
    "    # autofit the columns\n",
    "    ws.autofit('c')\n",
    "    wb.save(make_filename)\n"
   ]
  },
  {
   "attachments": {},
   "cell_type": "markdown",
   "metadata": {},
   "source": [
    "# Multiple Source Codes"
   ]
  },
  {
   "cell_type": "code",
   "execution_count": 52,
   "metadata": {},
   "outputs": [],
   "source": [
    "def multi_source_code(df):\n",
    "\n",
    "    unstacked = df.groupby(['Part Number','Issue Level','Function Group','Sub Group','Source Code']).size().unstack()\n",
    "\n",
    "    # find number of columns dynamically, as number of unique status controls the number of columns\n",
    "    expected_status_count = len(unstacked.columns) - 1\n",
    "    unstacked2 = unstacked[unstacked.isna().sum(axis=1)!=expected_status_count]\n",
    "    unstacked2\n",
    "\n",
    "\n",
    "    multi_sc = unstacked2.reset_index().fillna('')\n",
    "\n",
    "    make_sc_cols = ['AIH','MIH','MOB']\n",
    "\n",
    "    first_cols = ['Part Number', 'Issue Level', 'Function Group', 'Sub Group']\n",
    "\n",
    "    cols_to_order = first_cols + make_sc_cols\n",
    "    sc_ordered_cols = cols_to_order + (multi_sc.columns.drop(cols_to_order).tolist())\n",
    "\n",
    "    multi_sc = multi_sc[sc_ordered_cols]\n",
    "\n",
    "    return multi_sc\n"
   ]
  },
  {
   "cell_type": "code",
   "execution_count": 53,
   "metadata": {},
   "outputs": [],
   "source": [
    "multi_sc = multi_source_code(existing_bom)"
   ]
  },
  {
   "cell_type": "code",
   "execution_count": 55,
   "metadata": {},
   "outputs": [],
   "source": [
    "import xlwings as xw\n",
    "\n",
    "multi_sc_filename = os.path.join(base, '{}-Multi-Source-Codes.xlsm'.format(project))\n",
    "\n",
    "# wb = xw.Book(path)\n",
    "\n",
    "# open file if it exists\n",
    "try:\n",
    "    wb = xw.Book(multi_sc_filename)\n",
    "# otherwise create a new file    \n",
    "except:\n",
    "    wb = xw.Book()\n",
    "\n",
    "ws = wb.sheets[0]\n",
    "\n",
    "ws.clear_contents()\n",
    "\n",
    "# autofit the columns\n",
    "wb.sheets[ws].autofit('c')\n",
    "\n",
    "startrow=0\n",
    "\n",
    "ws['A1'].options(pd.DataFrame, header=1, index=False).value=multi_sc\n",
    "\n",
    "# wb.save(multi_sc_filename) - this errors - not sure it's needed with autosave\n"
   ]
  },
  {
   "cell_type": "code",
   "execution_count": null,
   "metadata": {},
   "outputs": [],
   "source": []
  }
 ],
 "metadata": {
  "kernelspec": {
   "display_name": "Python 3.9.7 ('base')",
   "language": "python",
   "name": "python3"
  },
  "language_info": {
   "codemirror_mode": {
    "name": "ipython",
    "version": 3
   },
   "file_extension": ".py",
   "mimetype": "text/x-python",
   "name": "python",
   "nbconvert_exporter": "python",
   "pygments_lexer": "ipython3",
   "version": "3.12.3"
  },
  "orig_nbformat": 4,
  "vscode": {
   "interpreter": {
    "hash": "64e4acd0b8bcdde64ca4122ca150d77580571c820a6f3cf10fee72812efda0cd"
   }
  }
 },
 "nbformat": 4,
 "nbformat_minor": 2
}
